{
  "nbformat": 4,
  "nbformat_minor": 0,
  "metadata": {
    "colab": {
      "provenance": [],
      "include_colab_link": true
    },
    "kernelspec": {
      "name": "python3",
      "display_name": "Python 3"
    },
    "language_info": {
      "name": "python"
    }
  },
  "cells": [
    {
      "cell_type": "markdown",
      "metadata": {
        "id": "view-in-github",
        "colab_type": "text"
      },
      "source": [
        "<a href=\"https://colab.research.google.com/github/beatriz-vr/EmmergingTec/blob/main/Class02.ipynb\" target=\"_parent\"><img src=\"https://colab.research.google.com/assets/colab-badge.svg\" alt=\"Open In Colab\"/></a>"
      ]
    },
    {
      "cell_type": "markdown",
      "source": [
        "Beatriz Rolão and Rita Ponte"
      ],
      "metadata": {
        "id": "eOQDhsLzCutH"
      }
    },
    {
      "cell_type": "markdown",
      "source": [
        "#Simple Python\n"
      ],
      "metadata": {
        "id": "Mf3ue6e-uUmx"
      }
    },
    {
      "cell_type": "markdown",
      "source": [
        "In the class A, students' heights are:\n",
        "\n",
        "161.5\n",
        "165.9\n",
        "168.7\n",
        "163.1\n",
        "170.8\n",
        "167.2\n",
        "\n",
        "In the class B, students' heights are:\n",
        "\n",
        "172.5\n",
        "162.9\n",
        "161.7\n",
        "160.1\n",
        "161.8\n",
        "169.2\n",
        "\n",
        "The class A and the class B are joined together to form the class AB. Write a code to calculate the mean height by using Python 'list' and 'for' loop"
      ],
      "metadata": {
        "id": "I-g2O1erp4rp"
      }
    },
    {
      "cell_type": "code",
      "execution_count": 2,
      "metadata": {
        "id": "C2GNtXrfp105",
        "colab": {
          "base_uri": "https://localhost:8080/"
        },
        "outputId": "2d287dae-f010-4a5c-aaa6-20e655560d93"
      },
      "outputs": [
        {
          "output_type": "stream",
          "name": "stdout",
          "text": [
            "161.5\n",
            "165.9\n",
            "168.7\n",
            "163.1\n",
            "170.8\n",
            "167.2\n",
            "172.5\n",
            "162.9\n",
            "161.7\n",
            "160.1\n",
            "161.8\n",
            "169.2\n",
            "The mean height of class AB is: 165.45000000000002\n"
          ]
        }
      ],
      "source": [
        "class_a_heights = [161.5, 165.9, 168.7, 163.1, 170.8, 167.2]\n",
        "class_b_heights = [172.5, 162.9, 161.7, 160.1, 161.8, 169.2]\n",
        "\n",
        "# Combine the two classes into one list\n",
        "class_ab_heights = class_a_heights + class_b_heights\n",
        "\n",
        "# Calculate the mean height\n",
        "total_height = 0\n",
        "for height in class_ab_heights:\n",
        "    total_height += height\n",
        "    print(height)\n",
        "\n",
        "mean_height = total_height / len(class_ab_heights)\n",
        "\n",
        "print(\"The mean height of class AB is:\", mean_height)\n"
      ]
    },
    {
      "cell_type": "markdown",
      "source": [
        "Write a python code to sort the heights of the class AB."
      ],
      "metadata": {
        "id": "q-EKIni7q7fr"
      }
    },
    {
      "cell_type": "code",
      "source": [
        "class_a_heights = [161.5, 165.9, 168.7, 163.1, 170.8, 167.2]\n",
        "class_b_heights = [172.5, 162.9, 161.7, 160.1, 161.8, 169.2]\n",
        "\n",
        "# Combine the two classes into one list\n",
        "class_ab_heights = class_a_heights + class_b_heights\n",
        "\n",
        "# Sort the heights in ascending order\n",
        "class_ab_heights.sort()\n",
        "\n",
        "print(\"Sorted heights of class AB:\", class_ab_heights)\n"
      ],
      "metadata": {
        "id": "r10GJvR6q-s9",
        "colab": {
          "base_uri": "https://localhost:8080/"
        },
        "outputId": "2faa8afd-ac7e-426c-f637-55ad0ead8cc2"
      },
      "execution_count": 3,
      "outputs": [
        {
          "output_type": "stream",
          "name": "stdout",
          "text": [
            "Sorted heights of class AB: [160.1, 161.5, 161.7, 161.8, 162.9, 163.1, 165.9, 167.2, 168.7, 169.2, 170.8, 172.5]\n"
          ]
        }
      ]
    },
    {
      "cell_type": "markdown",
      "source": [
        " The class C is formed with students with the height less than 165. Make a list 'C' containing the heights of the class C."
      ],
      "metadata": {
        "id": "oLg5_C33rRrm"
      }
    },
    {
      "cell_type": "code",
      "source": [
        "class_a_heights = [161.5, 165.9, 168.7, 163.1, 170.8, 167.2]\n",
        "class_b_heights = [172.5, 162.9, 161.7, 160.1, 161.8, 169.2]\n",
        "\n",
        "# Combine the two classes into one list\n",
        "class_ab_heights = class_a_heights + class_b_heights\n",
        "\n",
        "# Create a list of heights less than 165\n",
        "class_c_heights = [height for height in class_ab_heights if height < 165]\n",
        "\n",
        "print(\"Heights in class C:\", class_c_heights)\n"
      ],
      "metadata": {
        "id": "ObnyjBy6rS2U",
        "colab": {
          "base_uri": "https://localhost:8080/"
        },
        "outputId": "beb30e3f-54a9-49f8-94c5-3392ea3ba683"
      },
      "execution_count": 4,
      "outputs": [
        {
          "output_type": "stream",
          "name": "stdout",
          "text": [
            "Heights in class C: [161.5, 163.1, 162.9, 161.7, 160.1, 161.8]\n"
          ]
        }
      ]
    },
    {
      "cell_type": "markdown",
      "source": [
        "The class D is formed with students with the height larger than 160 and less than 170. Make a list containing the heights of the class D."
      ],
      "metadata": {
        "id": "E5v1T2XErWbO"
      }
    },
    {
      "cell_type": "code",
      "source": [
        "class_d_heights = [height for height in class_ab_heights if height >= 160 and height <= 170]\n",
        "\n",
        "print(\"Heights in class D:\", class_d_heights)"
      ],
      "metadata": {
        "colab": {
          "base_uri": "https://localhost:8080/"
        },
        "id": "sizENBt55DK_",
        "outputId": "3cf8a4cc-dc40-4154-a023-247bd10896c2"
      },
      "execution_count": 6,
      "outputs": [
        {
          "output_type": "stream",
          "name": "stdout",
          "text": [
            "Heights in class D: [161.5, 165.9, 168.7, 163.1, 167.2, 162.9, 161.7, 160.1, 161.8, 169.2]\n"
          ]
        }
      ]
    },
    {
      "cell_type": "markdown",
      "source": [
        "Use a lambda function and map() to answer the following questions.\n",
        "1). Add 1 to each element of the list 'a' and create another list.\n",
        "\n",
        "a = [1, 2, 3, 4, 5, 6, 7, 8, 9, 10]"
      ],
      "metadata": {
        "id": "HNuB0Ym1rjo2"
      }
    },
    {
      "cell_type": "code",
      "source": [
        "a = [1, 2, 3, 4, 5, 6, 7, 8, 9, 10]\n",
        "\n",
        "new_a = list(map(lambda x: x + 1, a))\n",
        "\n",
        "print(new_a)\n"
      ],
      "metadata": {
        "id": "qcS7mwC5r5-v",
        "colab": {
          "base_uri": "https://localhost:8080/"
        },
        "outputId": "295c1fa7-fc3d-4b99-8348-511f3e1930fe"
      },
      "execution_count": 7,
      "outputs": [
        {
          "output_type": "stream",
          "name": "stdout",
          "text": [
            "[2, 3, 4, 5, 6, 7, 8, 9, 10, 11]\n"
          ]
        }
      ]
    },
    {
      "cell_type": "markdown",
      "source": [
        "In the following list of names, extract only those stargin with 'J'. Show the result as a list.\n",
        "\n",
        "a = ['Sara', 'Jack', 'Rebecca', 'Jennifer', 'Paul', 'Andrew', 'John']"
      ],
      "metadata": {
        "id": "xA5Eeeper5Fw"
      }
    },
    {
      "cell_type": "code",
      "source": [
        "a = ['Sara', 'Jack', 'Rebecca', 'Jennifer', 'Paul', 'Andrew', 'John']\n",
        "\n",
        "new_a = list(filter(lambda x: x.startswith('J'), a))\n",
        "\n",
        "print(new_a)\n"
      ],
      "metadata": {
        "id": "mDgRtPoRspfi",
        "colab": {
          "base_uri": "https://localhost:8080/"
        },
        "outputId": "a2bcb0a0-ace8-4b5e-9f2c-5fae08589025"
      },
      "execution_count": 8,
      "outputs": [
        {
          "output_type": "stream",
          "name": "stdout",
          "text": [
            "['Jack', 'Jennifer', 'John']\n"
          ]
        }
      ]
    },
    {
      "cell_type": "markdown",
      "source": [
        "Code the class named 'Calculator' that outputs the result as shown.\n",
        "\n",
        "calc1 = Calculator(5,3)\n",
        "\n",
        "\n",
        "print(calc1.sum())\n",
        "\n",
        "print(calc1.subtract())\n",
        "\n",
        "print(calc1.product())\n",
        "\n",
        "print(calc1.divide())\n",
        "\n",
        "\n",
        "8\n",
        "\n",
        "2\n",
        "\n",
        "15\n",
        "\n",
        "1.6666666666666667"
      ],
      "metadata": {
        "id": "pFl7wm6ysqNl"
      }
    },
    {
      "cell_type": "code",
      "source": [],
      "metadata": {
        "id": "JSN2QM_EsrYn"
      },
      "execution_count": null,
      "outputs": []
    },
    {
      "cell_type": "markdown",
      "source": [
        "Write function named 'palindrome' to test whether the entered word or sentence is a palindrome.\n",
        "Ignore capitalization, spaces, punctuation marks, symbols, etc. This code should be written with simple python without importing any libraries\n",
        "\n",
        "Palindrome examples:\n",
        "\n",
        "mom\n",
        "\n",
        "wow\n",
        "\n",
        "noon\n",
        "\n",
        "level\n",
        "\n",
        "radar\n",
        "\n",
        "kayak\n",
        "\n",
        "racecar\n",
        "\n",
        "God's dog\n",
        "\n",
        "Madam, I'm Adam"
      ],
      "metadata": {
        "id": "TX3hSZaXs8Np"
      }
    },
    {
      "cell_type": "code",
      "source": [],
      "metadata": {
        "id": "TETrD-CVuGVQ"
      },
      "execution_count": null,
      "outputs": []
    },
    {
      "cell_type": "markdown",
      "source": [
        "#Example from pandas, numpy, and matplotlib libraries"
      ],
      "metadata": {
        "id": "0TQkA4kJuamx"
      }
    },
    {
      "cell_type": "markdown",
      "source": [
        "Write a python code that generates 1000 random number between -5 and 5 with normal distribution and then plot them:"
      ],
      "metadata": {
        "id": "w90Bj51D0m2j"
      }
    },
    {
      "cell_type": "code",
      "source": [
        "import numpy as np\n",
        "import matplotlib.pyplot as plt\n",
        "\n",
        "# Set the mean and standard deviation of the normal distribution\n",
        "mu, sigma = 0, 2\n",
        "\n",
        "# Generate 1000 random numbers with normal distribution\n",
        "rand_nums = np.random.normal(mu, sigma, 1000)\n",
        "rand_nums = np.clip(rand_nums, -5, 5) #clip values outside the range [-5, 5]\n",
        " # Plot the histogram of the random numbers\n",
        "plt.hist(rand_nums, bins=50, density=True, alpha=0.6, color='g')\n",
        "\n",
        "# Add a title and labels to the plot\n",
        "plt.title(\"Histogram of Random Numbers with Normal Distribution\")\n",
        "plt.xlabel(\"Value\")\n",
        "plt.ylabel(\"Frequency\")\n",
        "\n",
        "# Show the plot\n",
        "plt.show()\n"
      ],
      "metadata": {
        "id": "OjZpU3n_0t_L",
        "colab": {
          "base_uri": "https://localhost:8080/",
          "height": 295
        },
        "outputId": "6e2ebb57-3770-497f-e2e8-cb0fa8e9325f"
      },
      "execution_count": 12,
      "outputs": [
        {
          "output_type": "display_data",
          "data": {
            "text/plain": [
              "<Figure size 432x288 with 1 Axes>"
            ],
            "image/png": "[encoded data removed]"
          },
          "metadata": {
            "needs_background": "light"
          }
        }
      ]
    },
    {
      "cell_type": "markdown",
      "source": [
        "Read in the data:\n",
        "\n",
        "!wget --no-clobber https://raw.githubusercontent.com/tn-220/EmergingClass/main/data_studentlist.csv\n",
        "\n",
        "df = pd.read_csv('data_studentlist.csv', header='infer')\n",
        "\n",
        "df.head(5)\n",
        "\n",
        "**Answer the following questions using Pandas library.**\n",
        "\n",
        "1) Average height of the male students:"
      ],
      "metadata": {
        "id": "EeIXG79AvayG"
      }
    },
    {
      "cell_type": "code",
      "source": [
        "import pandas as pd\n",
        "!wget --no-clobber https://raw.githubusercontent.com/tn-220/EmergingClass/main/data_studentlist.csv\n",
        "# Read in the data\n",
        "df = pd.read_csv('data_studentlist.csv', header='infer')\n",
        "\n",
        "# Calculate the average height of male students\n",
        "avg_height_male = df[df['gender'] == 'M']['height'].mean()\n",
        "\n",
        "print(\"Average height of male students:\", avg_height_male)\n"
      ],
      "metadata": {
        "id": "rtcA0X8luwEZ",
        "colab": {
          "base_uri": "https://localhost:8080/"
        },
        "outputId": "36204fe1-6d26-4a41-f82e-d76b7017fe38"
      },
      "execution_count": 15,
      "outputs": [
        {
          "output_type": "stream",
          "name": "stdout",
          "text": [
            "File ‘data_studentlist.csv’ already there; not retrieving.\n",
            "\n",
            "Average height of male students: 172.41000000000003\n"
          ]
        }
      ]
    },
    {
      "cell_type": "markdown",
      "source": [
        "2) Average height of the female students:"
      ],
      "metadata": {
        "id": "AQ96I2hJvwUs"
      }
    },
    {
      "cell_type": "code",
      "source": [
        "import pandas as pd\n",
        "\n",
        "# Read in the data\n",
        "df = pd.read_csv('data_studentlist.csv', header='infer')\n",
        "\n",
        "# Calculate the average height of female students\n",
        "avg_height_female = df[df['gender'] == 'F']['height'].mean()\n",
        "\n",
        "print(\"Average height of female students:\", avg_height_female)\n"
      ],
      "metadata": {
        "id": "icDx4YT7v1MK",
        "colab": {
          "base_uri": "https://localhost:8080/"
        },
        "outputId": "c3a9e483-3357-4f49-fbb2-6d7fc0f46312"
      },
      "execution_count": 16,
      "outputs": [
        {
          "output_type": "stream",
          "name": "stdout",
          "text": [
            "Average height of female students: 166.64285714285714\n"
          ]
        }
      ]
    },
    {
      "cell_type": "markdown",
      "source": [
        "3) Average weight of the male students:"
      ],
      "metadata": {
        "id": "Cf1mQNBVv2av"
      }
    },
    {
      "cell_type": "code",
      "source": [
        "import pandas as pd\n",
        "\n",
        "# Read in the data\n",
        "df = pd.read_csv('data_studentlist.csv', header='infer')\n",
        "\n",
        "# Calculate the average weight of male students\n",
        "avg_weight_male = df[df['gender'] == 'M']['weight'].mean()\n",
        "\n",
        "print(\"Average weight of male students:\", avg_weight_male)\n"
      ],
      "metadata": {
        "id": "Pb7a5Ma1wHVQ",
        "colab": {
          "base_uri": "https://localhost:8080/"
        },
        "outputId": "982da0f7-25b9-4243-ac64-a216c7997481"
      },
      "execution_count": 17,
      "outputs": [
        {
          "output_type": "stream",
          "name": "stdout",
          "text": [
            "Average weight of male students: 68.50000000000001\n"
          ]
        }
      ]
    },
    {
      "cell_type": "markdown",
      "source": [
        "4) The tallest height among the male students:"
      ],
      "metadata": {
        "id": "dvStklTSwIE3"
      }
    },
    {
      "cell_type": "code",
      "source": [
        "import pandas as pd\n",
        "\n",
        "# Read in the data\n",
        "df = pd.read_csv('data_studentlist.csv', header='infer')\n",
        "\n",
        "# Filter the DataFrame to include only male students\n",
        "male_df = df[df['gender'] == 'M']\n",
        "\n",
        "# Find the tallest height among the male students\n",
        "tallest_male_height = male_df['height'].max()\n",
        "\n",
        "print(\"Tallest height among male students:\", tallest_male_height)\n"
      ],
      "metadata": {
        "id": "3OBZXBowwQhJ",
        "colab": {
          "base_uri": "https://localhost:8080/"
        },
        "outputId": "79a26b59-74be-4908-eb41-2e73f4d0b472"
      },
      "execution_count": 18,
      "outputs": [
        {
          "output_type": "stream",
          "name": "stdout",
          "text": [
            "Tallest height among male students: 182.1\n"
          ]
        }
      ]
    },
    {
      "cell_type": "markdown",
      "source": [
        "5) The average grade of students with absence ('Y'):\n"
      ],
      "metadata": {
        "id": "Rkb6aToMwRKI"
      }
    },
    {
      "cell_type": "code",
      "source": [
        "import pandas as pd\n",
        "\n",
        "# Read in the data\n",
        "df = pd.read_csv('data_studentlist.csv', header='infer')\n",
        "\n",
        "# Filter the DataFrame to include only students with absence ('Y')\n",
        "absent_df = df[df['absence'] == 'Y']\n",
        "\n",
        "# Calculate the average grade of students with absence ('Y')\n",
        "avg_grade_absent = absent_df['grade'].mean()\n",
        "\n",
        "print(\"Average grade of students with absence ('Y'):\", avg_grade_absent)\n"
      ],
      "metadata": {
        "id": "TMf6oggVwa-I",
        "colab": {
          "base_uri": "https://localhost:8080/"
        },
        "outputId": "d7c8ea59-a376-4d2d-d7df-c88e78c487c5"
      },
      "execution_count": 19,
      "outputs": [
        {
          "output_type": "stream",
          "name": "stdout",
          "text": [
            "Average grade of students with absence ('Y'): 3.0\n"
          ]
        }
      ]
    },
    {
      "cell_type": "markdown",
      "source": [
        "6) Average age of the students with absence ('Y') whose grade is equal or larger than 3:"
      ],
      "metadata": {
        "id": "iwRY3m4Nwb1q"
      }
    },
    {
      "cell_type": "code",
      "source": [
        "import pandas as pd\n",
        "\n",
        "# Read in the data\n",
        "df = pd.read_csv('data_studentlist.csv', header='infer')\n",
        "\n",
        "# Filter the DataFrame to include only students with absence ('Y') and grade >= 3\n",
        "absent_grade_df = df[(df['absence'] == 'Y') & (df['grade'] >= 3)]\n",
        "\n",
        "# Calculate the average age of the filtered students\n",
        "avg_age_absent_grade = absent_grade_df['age'].mean()\n",
        "\n",
        "print(\"Average age of students with absence ('Y') and grade >= 3:\", avg_age_absent_grade)\n"
      ],
      "metadata": {
        "id": "FG-dnrzywlqr",
        "colab": {
          "base_uri": "https://localhost:8080/"
        },
        "outputId": "a59c3ab0-f2ac-43c4-d2cf-880505ff2f56"
      },
      "execution_count": 20,
      "outputs": [
        {
          "output_type": "stream",
          "name": "stdout",
          "text": [
            "Average age of students with absence ('Y') and grade >= 3: 23.666666666666668\n"
          ]
        }
      ]
    },
    {
      "cell_type": "markdown",
      "source": [
        "Use pandas and numpy for following:\n",
        "\n",
        "Read in the data.\n",
        "\n",
        "!wget --no-clobber https://raw.githubusercontent.com/tn-220/EmergingClass/main/data_census.csv\n",
        "\n",
        "df = pd.read_csv('data_census.csv', header='infer')\n",
        "\n",
        "df.shape\n",
        "\n",
        "df.head(10)\n",
        "\n",
        "**Answer the following questions using Pandas library.**\n",
        "\n",
        "1) Total population of ProvinceCode equal to 115 and 116:"
      ],
      "metadata": {
        "id": "OzuUo-26xRP5"
      }
    },
    {
      "cell_type": "code",
      "source": [],
      "metadata": {
        "id": "U1_KCsWWxeHp"
      },
      "execution_count": null,
      "outputs": []
    },
    {
      "cell_type": "markdown",
      "source": [
        "2) Average population of the cities where there are more males (GenderRatio >1:"
      ],
      "metadata": {
        "id": "az8ph_o9xb4I"
      }
    },
    {
      "cell_type": "code",
      "source": [],
      "metadata": {
        "id": "riP5TZL-xU2x"
      },
      "execution_count": null,
      "outputs": []
    },
    {
      "cell_type": "markdown",
      "source": [
        "\n",
        "3) Places with more males (GenderRatio >1) and less than 2 persons per household:\n",
        "\n",
        " "
      ],
      "metadata": {
        "id": "MD0AXxnGxm9Q"
      }
    },
    {
      "cell_type": "code",
      "source": [],
      "metadata": {
        "id": "MnD5ntWAxpMy"
      },
      "execution_count": null,
      "outputs": []
    },
    {
      "cell_type": "markdown",
      "source": [
        "\n",
        "4) Sort the DataFrame in ascending order of the 'Households'. Show the top 10."
      ],
      "metadata": {
        "id": "vPdl2MLJxqPd"
      }
    },
    {
      "cell_type": "code",
      "source": [],
      "metadata": {
        "id": "DzBeup02ysb3"
      },
      "execution_count": null,
      "outputs": []
    },
    {
      "cell_type": "markdown",
      "source": [
        "###Import pandas, numpy , and mathplotlib\n",
        "\n",
        "Read in the data.\n",
        "!wget --no-clobber https://raw.githubusercontent.com/tn-220/EmergingClass/main/data_coffeeshop.csv\n",
        "\n",
        "**Answer the following questions.**\n",
        "\n",
        "1) Make a frequency table of 'yearOfStart' and visualize by year.\n",
        "\n",
        "\n",
        "* Sort by the year.\n",
        "\n",
        "* Draw a line plot from 1997 to 2014. <= Hint: plt.xlim()"
      ],
      "metadata": {
        "id": "vU_tm0gQytCG"
      }
    },
    {
      "cell_type": "code",
      "source": [],
      "metadata": {
        "id": "ahS0CfvNytYt"
      },
      "execution_count": null,
      "outputs": []
    },
    {
      "cell_type": "markdown",
      "source": [
        "2) Now, split the data by the current state of business ('In' or 'Out' of business). Then, visualize the yearly trend of the 'yearOfStart' frequencies.\n",
        "\n",
        "* Sort by the year.\n",
        "* Draw two overlapping line plots from 1997 to 2014.\n",
        "* Use the 'figure' object."
      ],
      "metadata": {
        "id": "m_iArmf7zd7v"
      }
    },
    {
      "cell_type": "code",
      "source": [],
      "metadata": {
        "id": "LShbzNAtzsR6"
      },
      "execution_count": null,
      "outputs": []
    },
    {
      "cell_type": "markdown",
      "source": [
        "3) From the results of 1) and 2), how can you describe the trend in general?\n",
        "\n",
        "* Around the year 2008, began a steep increase in the number of new coffee shops.\n",
        "* As of the year 2014, more coffee shops opened in the past 5 years are still in business rather than going out of business."
      ],
      "metadata": {
        "id": "lH_AgrBJzwZw"
      }
    },
    {
      "cell_type": "code",
      "source": [],
      "metadata": {
        "id": "MyMy9VlQz2jv"
      },
      "execution_count": null,
      "outputs": []
    }
  ]
}